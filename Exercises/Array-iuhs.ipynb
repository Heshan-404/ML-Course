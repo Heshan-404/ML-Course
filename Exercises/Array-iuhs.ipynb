{
 "cells": [
  {
   "cell_type": "code",
   "execution_count": 2,
   "id": "47a01158-fad1-4925-bddf-04d218982cda",
   "metadata": {},
   "outputs": [],
   "source": [
    "import numpy as np"
   ]
  },
  {
   "cell_type": "code",
   "execution_count": 3,
   "id": "4528a4d1-1e03-49eb-a977-14017c934919",
   "metadata": {},
   "outputs": [
    {
     "data": {
      "text/plain": [
       "5.0"
      ]
     },
     "execution_count": 3,
     "metadata": {},
     "output_type": "execute_result"
    }
   ],
   "source": [
    "np.sqrt(25)"
   ]
  },
  {
   "cell_type": "code",
   "execution_count": 4,
   "id": "683b1f89-7313-4286-a318-eaf025eac868",
   "metadata": {},
   "outputs": [
    {
     "data": {
      "text/plain": [
       "9"
      ]
     },
     "execution_count": 4,
     "metadata": {},
     "output_type": "execute_result"
    }
   ],
   "source": [
    "np.power(3,2)"
   ]
  },
  {
   "cell_type": "code",
   "execution_count": 5,
   "id": "7e3ed40d-4b9b-450e-8e1c-4192b8b9d770",
   "metadata": {},
   "outputs": [
    {
     "data": {
      "text/plain": [
       "-0.9880316240928618"
      ]
     },
     "execution_count": 5,
     "metadata": {},
     "output_type": "execute_result"
    }
   ],
   "source": [
    "np.sin(30)"
   ]
  },
  {
   "cell_type": "code",
   "execution_count": 6,
   "id": "02875697-0015-4262-811f-a749a7dd41c5",
   "metadata": {},
   "outputs": [
    {
     "data": {
      "text/plain": [
       "4.605170185988092"
      ]
     },
     "execution_count": 6,
     "metadata": {},
     "output_type": "execute_result"
    }
   ],
   "source": [
    "np.log(100)"
   ]
  },
  {
   "cell_type": "code",
   "execution_count": 7,
   "id": "fceac818-5c08-4347-9cf2-49d0dcc4e2dd",
   "metadata": {},
   "outputs": [
    {
     "data": {
      "text/plain": [
       "1.0"
      ]
     },
     "execution_count": 7,
     "metadata": {},
     "output_type": "execute_result"
    }
   ],
   "source": [
    "np.exp(0)"
   ]
  },
  {
   "cell_type": "code",
   "execution_count": 8,
   "id": "541367b7-2d7a-4fae-ba38-ee51d0c2438e",
   "metadata": {},
   "outputs": [
    {
     "data": {
      "text/plain": [
       "array(['10', '20', '30', '40', 'ABC'], dtype='<U11')"
      ]
     },
     "execution_count": 8,
     "metadata": {},
     "output_type": "execute_result"
    }
   ],
   "source": [
    "L = [10,20,30,40,\"ABC\"]\n",
    "a = np.array(L)\n",
    "a"
   ]
  },
  {
   "cell_type": "code",
   "execution_count": 9,
   "id": "1ef65355-4949-4e44-8e9c-4fbf11f99de4",
   "metadata": {},
   "outputs": [
    {
     "data": {
      "text/plain": [
       "array([[10, 20, 30],\n",
       "       [40, 50, 60],\n",
       "       [70, 80, 90]])"
      ]
     },
     "execution_count": 9,
     "metadata": {},
     "output_type": "execute_result"
    }
   ],
   "source": [
    "b = np.array([[10,20,30],[40,50,60],[70,80,90]])\n",
    "b"
   ]
  },
  {
   "cell_type": "code",
   "execution_count": 10,
   "id": "516a3f69-01d8-426b-b8b9-9199816ca314",
   "metadata": {},
   "outputs": [
    {
     "data": {
      "text/plain": [
       "(3, 3)"
      ]
     },
     "execution_count": 10,
     "metadata": {},
     "output_type": "execute_result"
    }
   ],
   "source": [
    "b.shape"
   ]
  },
  {
   "cell_type": "code",
   "execution_count": 11,
   "id": "ccffaf48-6273-4855-9b09-4f4d584adc1b",
   "metadata": {},
   "outputs": [
    {
     "data": {
      "text/plain": [
       "1"
      ]
     },
     "execution_count": 11,
     "metadata": {},
     "output_type": "execute_result"
    }
   ],
   "source": [
    "a.ndim #number of dimensions\n"
   ]
  },
  {
   "cell_type": "code",
   "execution_count": 12,
   "id": "646d29c2-fba5-45fb-9d41-ecf0ce19267c",
   "metadata": {},
   "outputs": [
    {
     "data": {
      "text/plain": [
       "2"
      ]
     },
     "execution_count": 12,
     "metadata": {},
     "output_type": "execute_result"
    }
   ],
   "source": [
    "b.ndim"
   ]
  },
  {
   "cell_type": "code",
   "execution_count": 13,
   "id": "19d63bfe-a40f-42f4-8ee8-762b1211fd30",
   "metadata": {},
   "outputs": [
    {
     "name": "stdout",
     "output_type": "stream",
     "text": [
      "20\n"
     ]
    }
   ],
   "source": [
    "print(b[0,1])"
   ]
  },
  {
   "cell_type": "code",
   "execution_count": 14,
   "id": "e396d2b7-4b24-44cd-a663-71c2427d9980",
   "metadata": {},
   "outputs": [
    {
     "name": "stdout",
     "output_type": "stream",
     "text": [
      "20\n"
     ]
    }
   ],
   "source": [
    "print(b[0,1])"
   ]
  },
  {
   "cell_type": "code",
   "execution_count": 15,
   "id": "a0e77a32-513c-41df-ab16-50c93f1a1e4c",
   "metadata": {},
   "outputs": [
    {
     "name": "stdout",
     "output_type": "stream",
     "text": [
      "[[10 20 30]\n",
      " [40 50 60]\n",
      " [70 80 90]]\n"
     ]
    }
   ],
   "source": [
    "print(b[:3]) # print rows in 2d array"
   ]
  },
  {
   "cell_type": "code",
   "execution_count": 16,
   "id": "46255660-4c8f-4608-85a4-5d2313303c12",
   "metadata": {},
   "outputs": [
    {
     "name": "stdout",
     "output_type": "stream",
     "text": [
      "[[10 20 30]\n",
      " [70 80 90]]\n"
     ]
    }
   ],
   "source": [
    "print(b[::2])"
   ]
  },
  {
   "cell_type": "code",
   "execution_count": 33,
   "id": "1c5475b7-e0db-4203-bcba-3e8bd99561ad",
   "metadata": {},
   "outputs": [
    {
     "data": {
      "text/plain": [
       "dtype('int32')"
      ]
     },
     "execution_count": 33,
     "metadata": {},
     "output_type": "execute_result"
    }
   ],
   "source": [
    "b.dtype"
   ]
  },
  {
   "cell_type": "code",
   "execution_count": 41,
   "id": "d7997785-a37c-4e73-82ed-f396c1811b32",
   "metadata": {},
   "outputs": [
    {
     "name": "stdout",
     "output_type": "stream",
     "text": [
      "[100   2]\n"
     ]
    }
   ],
   "source": [
    "original_array = np.array([1,2,3])\n",
    "view_array = original_array[:2] # get only certain values \n",
    "#this taking only the reference address\n",
    "\n",
    "original_array[0] = 100\n",
    "print(view_array)"
   ]
  },
  {
   "cell_type": "code",
   "execution_count": 51,
   "id": "1f96a17c-892f-416b-9d61-91eee3909817",
   "metadata": {},
   "outputs": [
    {
     "name": "stdout",
     "output_type": "stream",
     "text": [
      "[100  20  30]\n",
      "[10 20]\n"
     ]
    }
   ],
   "source": [
    "original_array = np.array([10,20,30])\n",
    "copy_array = original_array[:2].copy()\n",
    "\n",
    "original_array[0] = 100;\n",
    "\n",
    "print(original_array)\n",
    "print(copy_array)"
   ]
  },
  {
   "cell_type": "code",
   "execution_count": 69,
   "id": "596e3040-a505-4533-8301-b09226e063d2",
   "metadata": {},
   "outputs": [
    {
     "name": "stdout",
     "output_type": "stream",
     "text": [
      "[10 20 30 40 50 60]\n",
      "[10 20 30 40 50 60]\n"
     ]
    }
   ],
   "source": [
    "array1 = np.array([10,20,30])\n",
    "array2 = np.array([40,50,60])\n",
    "\n",
    "result = np.concatenate((array1,array2)) #combine both arrays\n",
    "\n",
    "print(result)\n",
    "\n",
    "result2 = np.append(array1 , array2)\n",
    "print(result2)\n"
   ]
  },
  {
   "cell_type": "code",
   "execution_count": 75,
   "id": "661542f0-e482-474a-b759-a5eb0b9de778",
   "metadata": {},
   "outputs": [
    {
     "name": "stdout",
     "output_type": "stream",
     "text": [
      "[50 70 90]\n",
      "[-30 -30 -30]\n"
     ]
    }
   ],
   "source": [
    "result3 = np.add(array1,array2) #add both arrays and get new array\n",
    "print(result3)\n",
    "\n",
    "result4 = np.subtract(array1,array2) #substract both arrays and get new array\n",
    "print(result4)"
   ]
  },
  {
   "cell_type": "code",
   "execution_count": 87,
   "id": "2106d3ea-f163-4c47-802a-64079018c123",
   "metadata": {},
   "outputs": [
    {
     "name": "stdout",
     "output_type": "stream",
     "text": [
      "Split Array into 3 parts :  [array([1, 2, 3]), array([4, 5, 6]), array([7, 8, 9])]\n",
      "2\n",
      "Part 1 : [1 2 3]\n",
      "Part 2 : [4 5 6]\n",
      "Part 3 : [7 8 9]\n"
     ]
    }
   ],
   "source": [
    "#create a 1D array\n",
    "array = np.array([1,2,3,4,5,6,7,8,9])\n",
    "\n",
    "#split the array into 3 parts\n",
    "split_array = np.array_split(array,3)\n",
    "print(\"Split Array into 3 parts : \" , split_array)\n",
    "\n",
    "\n",
    "for i, part in enumerate(split_array):\n",
    "    print(f\"Part {i+1} : {part}\")"
   ]
  },
  {
   "cell_type": "code",
   "execution_count": 107,
   "id": "deb00474-edca-4bcf-9695-b83ea3fa660e",
   "metadata": {},
   "outputs": [
    {
     "name": "stdout",
     "output_type": "stream",
     "text": [
      "Part 1 : [10 20]\n",
      "Part 2 : [30 40 50]\n",
      "Part 3 : [60]\n",
      "Part 4 : [70 80 90]\n"
     ]
    }
   ],
   "source": [
    "array = np.array([10,20,30,40,50,60,70,80,90])\n",
    "\n",
    "#split the array at specified indices\n",
    "split_array = np.array_split(array , [2,5,6]) \n",
    "# 0-1 --> 1-4 --> 5-6\n",
    "# [0,1] --> [2,3,4] --> [5] --> [6,7,8]\n",
    "for i, part in enumerate(split_array):\n",
    "    print(f\"Part {i+1} : {part}\")"
   ]
  },
  {
   "cell_type": "code",
   "execution_count": 121,
   "id": "ad4a6827-aae1-46de-9660-b498884a8dcb",
   "metadata": {},
   "outputs": [
    {
     "name": "stdout",
     "output_type": "stream",
     "text": [
      "\n",
      "Split 2D array into 2 parts along the rows : \n",
      "Part 1 :\n",
      " [[1 2 3 4]\n",
      " [5 6 7 8]]\n",
      "Part 2 :\n",
      " [[ 9 10 11 12]]\n"
     ]
    }
   ],
   "source": [
    "array_2d = np.array([[1,2,3,4],[5,6,7,8],[9,10,11,12]])\n",
    "\n",
    "#split the 2d array into 2 parts along the rows (axis = 0)\n",
    "\n",
    "split_2d_array = np.array_split(array_2d , 2 , axis = 0) \n",
    "# we can remove axis but it takes default axis = 0\n",
    "# split_2d_array = np.array_split(array_2d , 2)\n",
    "print(\"\\nSplit 2D array into 2 parts along the rows : \")\n",
    "for i, part in enumerate(split_2d_array):\n",
    "    print(f\"Part {i+1} :\\n {part}\")"
   ]
  },
  {
   "cell_type": "code",
   "execution_count": 119,
   "id": "2e7f6caf-7b79-49f9-8a8f-8782fb3619d1",
   "metadata": {},
   "outputs": [
    {
     "name": "stdout",
     "output_type": "stream",
     "text": [
      "\n",
      "Split 2D array into 2 parts along the rows : \n",
      "Part 1 :\n",
      " [[ 1  2]\n",
      " [ 5  6]\n",
      " [ 9 10]]\n",
      "Part 2 :\n",
      " [[ 3  4]\n",
      " [ 7  8]\n",
      " [11 12]]\n"
     ]
    }
   ],
   "source": [
    "array_2d = np.array([[1,2,3,4],[5,6,7,8],[9,10,11,12]])\n",
    "\n",
    "#split the 2d array into 2 parts along the colomns (axis = 0)\n",
    "\n",
    "split_2d_array = np.array_split(array_2d , 2 , axis = 1)\n",
    "print(\"\\nSplit 2D array into 2 parts along the rows : \")\n",
    "for i, part in enumerate(split_2d_array):\n",
    "    print(f\"Part {i+1} :\\n {part}\")"
   ]
  },
  {
   "cell_type": "code",
   "execution_count": null,
   "id": "0dd82a7a-02e2-4fa3-9825-f792a1c289ff",
   "metadata": {},
   "outputs": [],
   "source": []
  }
 ],
 "metadata": {
  "kernelspec": {
   "display_name": "Python 3 (ipykernel)",
   "language": "python",
   "name": "python3"
  },
  "language_info": {
   "codemirror_mode": {
    "name": "ipython",
    "version": 3
   },
   "file_extension": ".py",
   "mimetype": "text/x-python",
   "name": "python",
   "nbconvert_exporter": "python",
   "pygments_lexer": "ipython3",
   "version": "3.12.4"
  }
 },
 "nbformat": 4,
 "nbformat_minor": 5
}
