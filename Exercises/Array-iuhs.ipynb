{
 "cells": [
  {
   "cell_type": "code",
   "execution_count": 1,
   "id": "47a01158-fad1-4925-bddf-04d218982cda",
   "metadata": {},
   "outputs": [],
   "source": [
    "import numpy as np"
   ]
  },
  {
   "cell_type": "code",
   "execution_count": 2,
   "id": "4528a4d1-1e03-49eb-a977-14017c934919",
   "metadata": {},
   "outputs": [
    {
     "data": {
      "text/plain": [
       "5.0"
      ]
     },
     "execution_count": 2,
     "metadata": {},
     "output_type": "execute_result"
    }
   ],
   "source": [
    "np.sqrt(25)"
   ]
  },
  {
   "cell_type": "code",
   "execution_count": 3,
   "id": "683b1f89-7313-4286-a318-eaf025eac868",
   "metadata": {},
   "outputs": [
    {
     "data": {
      "text/plain": [
       "9"
      ]
     },
     "execution_count": 3,
     "metadata": {},
     "output_type": "execute_result"
    }
   ],
   "source": [
    "np.power(3,2)"
   ]
  },
  {
   "cell_type": "code",
   "execution_count": 4,
   "id": "7e3ed40d-4b9b-450e-8e1c-4192b8b9d770",
   "metadata": {},
   "outputs": [
    {
     "data": {
      "text/plain": [
       "-0.9880316240928618"
      ]
     },
     "execution_count": 4,
     "metadata": {},
     "output_type": "execute_result"
    }
   ],
   "source": [
    "np.sin(30)"
   ]
  },
  {
   "cell_type": "code",
   "execution_count": 5,
   "id": "02875697-0015-4262-811f-a749a7dd41c5",
   "metadata": {},
   "outputs": [
    {
     "data": {
      "text/plain": [
       "4.605170185988092"
      ]
     },
     "execution_count": 5,
     "metadata": {},
     "output_type": "execute_result"
    }
   ],
   "source": [
    "np.log(100)"
   ]
  },
  {
   "cell_type": "code",
   "execution_count": 6,
   "id": "fceac818-5c08-4347-9cf2-49d0dcc4e2dd",
   "metadata": {},
   "outputs": [
    {
     "data": {
      "text/plain": [
       "1.0"
      ]
     },
     "execution_count": 6,
     "metadata": {},
     "output_type": "execute_result"
    }
   ],
   "source": [
    "np.exp(0)"
   ]
  },
  {
   "cell_type": "code",
   "execution_count": 7,
   "id": "541367b7-2d7a-4fae-ba38-ee51d0c2438e",
   "metadata": {},
   "outputs": [
    {
     "data": {
      "text/plain": [
       "array(['10', '20', '30', '40', 'ABC'], dtype='<U11')"
      ]
     },
     "execution_count": 7,
     "metadata": {},
     "output_type": "execute_result"
    }
   ],
   "source": [
    "L = [10,20,30,40,\"ABC\"]\n",
    "a = np.array(L)\n",
    "a"
   ]
  },
  {
   "cell_type": "code",
   "execution_count": 8,
   "id": "1ef65355-4949-4e44-8e9c-4fbf11f99de4",
   "metadata": {},
   "outputs": [
    {
     "data": {
      "text/plain": [
       "array([[10, 20, 30],\n",
       "       [40, 50, 60],\n",
       "       [70, 80, 90]])"
      ]
     },
     "execution_count": 8,
     "metadata": {},
     "output_type": "execute_result"
    }
   ],
   "source": [
    "b = np.array([[10,20,30],[40,50,60],[70,80,90]])\n",
    "b"
   ]
  },
  {
   "cell_type": "code",
   "execution_count": 9,
   "id": "516a3f69-01d8-426b-b8b9-9199816ca314",
   "metadata": {},
   "outputs": [
    {
     "data": {
      "text/plain": [
       "(3, 3)"
      ]
     },
     "execution_count": 9,
     "metadata": {},
     "output_type": "execute_result"
    }
   ],
   "source": [
    "b.shape"
   ]
  },
  {
   "cell_type": "code",
   "execution_count": 10,
   "id": "ccffaf48-6273-4855-9b09-4f4d584adc1b",
   "metadata": {},
   "outputs": [
    {
     "data": {
      "text/plain": [
       "1"
      ]
     },
     "execution_count": 10,
     "metadata": {},
     "output_type": "execute_result"
    }
   ],
   "source": [
    "a.ndim #number of dimensions\n"
   ]
  },
  {
   "cell_type": "code",
   "execution_count": 11,
   "id": "646d29c2-fba5-45fb-9d41-ecf0ce19267c",
   "metadata": {},
   "outputs": [
    {
     "data": {
      "text/plain": [
       "2"
      ]
     },
     "execution_count": 11,
     "metadata": {},
     "output_type": "execute_result"
    }
   ],
   "source": [
    "b.ndim"
   ]
  },
  {
   "cell_type": "code",
   "execution_count": 12,
   "id": "19d63bfe-a40f-42f4-8ee8-762b1211fd30",
   "metadata": {},
   "outputs": [
    {
     "name": "stdout",
     "output_type": "stream",
     "text": [
      "20\n"
     ]
    }
   ],
   "source": [
    "print(b[0,1])"
   ]
  },
  {
   "cell_type": "code",
   "execution_count": 13,
   "id": "e396d2b7-4b24-44cd-a663-71c2427d9980",
   "metadata": {},
   "outputs": [
    {
     "name": "stdout",
     "output_type": "stream",
     "text": [
      "20\n"
     ]
    }
   ],
   "source": [
    "print(b[0,1])"
   ]
  },
  {
   "cell_type": "code",
   "execution_count": 14,
   "id": "a0e77a32-513c-41df-ab16-50c93f1a1e4c",
   "metadata": {},
   "outputs": [
    {
     "name": "stdout",
     "output_type": "stream",
     "text": [
      "[[10 20 30]\n",
      " [40 50 60]\n",
      " [70 80 90]]\n"
     ]
    }
   ],
   "source": [
    "print(b[:3]) # print rows in 2d array"
   ]
  },
  {
   "cell_type": "code",
   "execution_count": 15,
   "id": "46255660-4c8f-4608-85a4-5d2313303c12",
   "metadata": {},
   "outputs": [
    {
     "name": "stdout",
     "output_type": "stream",
     "text": [
      "[[10 20 30]\n",
      " [70 80 90]]\n"
     ]
    }
   ],
   "source": [
    "print(b[::2])"
   ]
  },
  {
   "cell_type": "code",
   "execution_count": 16,
   "id": "1c5475b7-e0db-4203-bcba-3e8bd99561ad",
   "metadata": {},
   "outputs": [
    {
     "data": {
      "text/plain": [
       "dtype('int32')"
      ]
     },
     "execution_count": 16,
     "metadata": {},
     "output_type": "execute_result"
    }
   ],
   "source": [
    "b.dtype"
   ]
  },
  {
   "cell_type": "code",
   "execution_count": 17,
   "id": "d7997785-a37c-4e73-82ed-f396c1811b32",
   "metadata": {},
   "outputs": [
    {
     "name": "stdout",
     "output_type": "stream",
     "text": [
      "[100   2]\n"
     ]
    }
   ],
   "source": [
    "original_array = np.array([1,2,3])\n",
    "view_array = original_array[:2] # get only certain values \n",
    "#this taking only the reference address\n",
    "\n",
    "original_array[0] = 100\n",
    "print(view_array)"
   ]
  },
  {
   "cell_type": "code",
   "execution_count": 18,
   "id": "1f96a17c-892f-416b-9d61-91eee3909817",
   "metadata": {},
   "outputs": [
    {
     "name": "stdout",
     "output_type": "stream",
     "text": [
      "[100  20  30]\n",
      "[10 20]\n"
     ]
    }
   ],
   "source": [
    "original_array = np.array([10,20,30])\n",
    "copy_array = original_array[:2].copy()\n",
    "\n",
    "original_array[0] = 100;\n",
    "\n",
    "print(original_array)\n",
    "print(copy_array)"
   ]
  },
  {
   "cell_type": "code",
   "execution_count": 19,
   "id": "596e3040-a505-4533-8301-b09226e063d2",
   "metadata": {},
   "outputs": [
    {
     "name": "stdout",
     "output_type": "stream",
     "text": [
      "[10 20 30 40 50 60]\n",
      "[10 20 30 40 50 60]\n"
     ]
    }
   ],
   "source": [
    "array1 = np.array([10,20,30])\n",
    "array2 = np.array([40,50,60])\n",
    "\n",
    "result = np.concatenate((array1,array2)) #combine both arrays\n",
    "\n",
    "print(result)\n",
    "\n",
    "result2 = np.append(array1 , array2)\n",
    "print(result2)\n"
   ]
  },
  {
   "cell_type": "code",
   "execution_count": 20,
   "id": "661542f0-e482-474a-b759-a5eb0b9de778",
   "metadata": {},
   "outputs": [
    {
     "name": "stdout",
     "output_type": "stream",
     "text": [
      "[50 70 90]\n",
      "[-30 -30 -30]\n"
     ]
    }
   ],
   "source": [
    "result3 = np.add(array1,array2) #add both arrays and get new array\n",
    "print(result3)\n",
    "\n",
    "result4 = np.subtract(array1,array2) #substract both arrays and get new array\n",
    "print(result4)"
   ]
  },
  {
   "cell_type": "code",
   "execution_count": 21,
   "id": "2106d3ea-f163-4c47-802a-64079018c123",
   "metadata": {},
   "outputs": [
    {
     "name": "stdout",
     "output_type": "stream",
     "text": [
      "Split Array into 3 parts :  [array([1, 2, 3]), array([4, 5, 6]), array([7, 8, 9])]\n",
      "Part 1 : [1 2 3]\n",
      "Part 2 : [4 5 6]\n",
      "Part 3 : [7 8 9]\n"
     ]
    }
   ],
   "source": [
    "#create a 1D array\n",
    "array = np.array([1,2,3,4,5,6,7,8,9])\n",
    "\n",
    "#split the array into 3 parts\n",
    "split_array = np.array_split(array,3)\n",
    "print(\"Split Array into 3 parts : \" , split_array)\n",
    "\n",
    "\n",
    "for i, part in enumerate(split_array):\n",
    "    print(f\"Part {i+1} : {part}\")"
   ]
  },
  {
   "cell_type": "code",
   "execution_count": 22,
   "id": "deb00474-edca-4bcf-9695-b83ea3fa660e",
   "metadata": {},
   "outputs": [
    {
     "name": "stdout",
     "output_type": "stream",
     "text": [
      "Part 1 : [10 20]\n",
      "Part 2 : [30 40 50]\n",
      "Part 3 : [60]\n",
      "Part 4 : [70 80 90]\n"
     ]
    }
   ],
   "source": [
    "array = np.array([10,20,30,40,50,60,70,80,90])\n",
    "\n",
    "#split the array at specified indices\n",
    "split_array = np.array_split(array , [2,5,6]) \n",
    "# 0-1 --> 1-4 --> 5-6\n",
    "# [0,1] --> [2,3,4] --> [5] --> [6,7,8]\n",
    "for i, part in enumerate(split_array):\n",
    "    print(f\"Part {i+1} : {part}\")"
   ]
  },
  {
   "cell_type": "code",
   "execution_count": 23,
   "id": "ad4a6827-aae1-46de-9660-b498884a8dcb",
   "metadata": {},
   "outputs": [
    {
     "name": "stdout",
     "output_type": "stream",
     "text": [
      "\n",
      "Split 2D array into 2 parts along the rows : \n",
      "Part 1 :\n",
      " [[1 2 3 4]\n",
      " [5 6 7 8]]\n",
      "Part 2 :\n",
      " [[ 9 10 11 12]]\n"
     ]
    }
   ],
   "source": [
    "array_2d = np.array([[1,2,3,4],[5,6,7,8],[9,10,11,12]])\n",
    "\n",
    "#split the 2d array into 2 parts along the rows (axis = 0)\n",
    "\n",
    "split_2d_array = np.array_split(array_2d , 2 , axis = 0) \n",
    "# we can remove axis but it takes default axis = 0\n",
    "# split_2d_array = np.array_split(array_2d , 2)\n",
    "print(\"\\nSplit 2D array into 2 parts along the rows : \")\n",
    "for i, part in enumerate(split_2d_array):\n",
    "    print(f\"Part {i+1} :\\n {part}\")"
   ]
  },
  {
   "cell_type": "code",
   "execution_count": 24,
   "id": "2e7f6caf-7b79-49f9-8a8f-8782fb3619d1",
   "metadata": {},
   "outputs": [
    {
     "name": "stdout",
     "output_type": "stream",
     "text": [
      "\n",
      "Split 2D array into 2 parts along the rows : \n",
      "Part 1 :\n",
      " [[ 1  2]\n",
      " [ 5  6]\n",
      " [ 9 10]]\n",
      "Part 2 :\n",
      " [[ 3  4]\n",
      " [ 7  8]\n",
      " [11 12]]\n"
     ]
    }
   ],
   "source": [
    "array_2d = np.array([[1,2,3,4],[5,6,7,8],[9,10,11,12]])\n",
    "\n",
    "#split the 2d array into 2 parts along the colomns (axis = 0)\n",
    "\n",
    "split_2d_array = np.array_split(array_2d , 2 , axis = 1)\n",
    "print(\"\\nSplit 2D array into 2 parts along the rows : \")\n",
    "for i, part in enumerate(split_2d_array):\n",
    "    print(f\"Part {i+1} :\\n {part}\")"
   ]
  },
  {
   "cell_type": "code",
   "execution_count": 25,
   "id": "0dd82a7a-02e2-4fa3-9825-f792a1c289ff",
   "metadata": {},
   "outputs": [
    {
     "name": "stdout",
     "output_type": "stream",
     "text": [
      "(array([2, 5, 7, 9], dtype=int64),)\n",
      "[2 5 7 9]\n",
      "4\n"
     ]
    }
   ],
   "source": [
    "array = np.array([1,2,3,4,5,3,7,3,9,3]);\n",
    "result = np.where(array == 3)\n",
    "print(result)\n",
    "print(result[0])\n",
    "print(len(result[0]))"
   ]
  },
  {
   "cell_type": "code",
   "execution_count": 26,
   "id": "5657c7cd-e6d7-4da8-be41-3d2dfb99d725",
   "metadata": {},
   "outputs": [
    {
     "name": "stdout",
     "output_type": "stream",
     "text": [
      "[1 2 2 3 4 6 7]\n",
      "[1 2 3 7 6 4 2]\n",
      "[1 2 2 3 4 6 7]\n"
     ]
    }
   ],
   "source": [
    "array = np.array([1,2,3,7,6,4,2])\n",
    "sorted_array = np.sort(array)\n",
    "print(sorted_array)\n",
    "print(array)\n",
    "array.sort()\n",
    "print(array)"
   ]
  },
  {
   "cell_type": "code",
   "execution_count": 27,
   "id": "fc4db172-964f-4288-bf95-46a07e82f5fd",
   "metadata": {},
   "outputs": [
    {
     "name": "stdout",
     "output_type": "stream",
     "text": [
      "(12,)\n"
     ]
    }
   ],
   "source": [
    "a = np.array([1,2,3,4,5,43,3,32,23,2,3,4])\n",
    "print(a.shape)"
   ]
  },
  {
   "cell_type": "code",
   "execution_count": 51,
   "id": "3e01a1e5-6a99-4807-9a67-c86b089cb4a0",
   "metadata": {},
   "outputs": [
    {
     "data": {
      "text/plain": [
       "array([[ 1,  2,  3],\n",
       "       [ 4,  5, 43],\n",
       "       [ 3, 32, 23],\n",
       "       [ 2,  3,  4]])"
      ]
     },
     "execution_count": 51,
     "metadata": {},
     "output_type": "execute_result"
    }
   ],
   "source": [
    "a = a.reshape(4,3) # we can reshape array \n",
    "a"
   ]
  },
  {
   "cell_type": "code",
   "execution_count": 53,
   "id": "c457f710-6e9c-42ee-b40a-99058ea436f3",
   "metadata": {},
   "outputs": [
    {
     "data": {
      "text/plain": [
       "4"
      ]
     },
     "execution_count": 53,
     "metadata": {},
     "output_type": "execute_result"
    }
   ],
   "source": [
    "a[3,2]"
   ]
  },
  {
   "cell_type": "code",
   "execution_count": 55,
   "id": "bc1adf0c-6eac-4444-b56a-902386b62d4c",
   "metadata": {},
   "outputs": [
    {
     "data": {
      "text/plain": [
       "array([[ 5, 43],\n",
       "       [32, 23]])"
      ]
     },
     "execution_count": 55,
     "metadata": {},
     "output_type": "execute_result"
    }
   ],
   "source": [
    "a[1:3,1:]"
   ]
  },
  {
   "cell_type": "code",
   "execution_count": 57,
   "id": "608d1cd2-3d45-4a5f-ae7f-da922c16442b",
   "metadata": {},
   "outputs": [
    {
     "data": {
      "text/plain": [
       "array([4, 4])"
      ]
     },
     "execution_count": 57,
     "metadata": {},
     "output_type": "execute_result"
    }
   ],
   "source": [
    "a[[1,3],[0,2]]"
   ]
  },
  {
   "cell_type": "code",
   "execution_count": 59,
   "id": "2aa91a97-27e5-4d7c-9a39-6868bd65ed8b",
   "metadata": {},
   "outputs": [
    {
     "data": {
      "text/plain": [
       "array([43, 32, 23])"
      ]
     },
     "execution_count": 59,
     "metadata": {},
     "output_type": "execute_result"
    }
   ],
   "source": [
    "a[a>5]"
   ]
  },
  {
   "cell_type": "code",
   "execution_count": 61,
   "id": "0c9afc59-7936-48f8-be74-01244f7ffa44",
   "metadata": {},
   "outputs": [
    {
     "data": {
      "text/plain": [
       "array([ 5, 32,  3])"
      ]
     },
     "execution_count": 61,
     "metadata": {},
     "output_type": "execute_result"
    }
   ],
   "source": [
    "a[:,1][a[:,1] > 2]"
   ]
  },
  {
   "cell_type": "code",
   "execution_count": null,
   "id": "d4a48d0b-0579-4023-880f-3342e75cbcfe",
   "metadata": {},
   "outputs": [],
   "source": [
    "a[1:3,1:]   # takes rows 1 , 2 and take colms 1 ,2 "
   ]
  },
  {
   "cell_type": "code",
   "execution_count": null,
   "id": "9c16af73-892c-4412-ac04-d0f9bbd011e1",
   "metadata": {},
   "outputs": [],
   "source": [
    "a.sum() # get summation of all numbers in array"
   ]
  },
  {
   "cell_type": "code",
   "execution_count": null,
   "id": "fd77e5b6-759c-46af-8e76-f387efa3b43c",
   "metadata": {},
   "outputs": [],
   "source": [
    "a.min() # get minimum value"
   ]
  },
  {
   "cell_type": "code",
   "execution_count": null,
   "id": "69868901-48bb-4592-a786-77be2f498596",
   "metadata": {},
   "outputs": [],
   "source": [
    "a.max()"
   ]
  },
  {
   "cell_type": "code",
   "execution_count": null,
   "id": "11fbf25c-82c8-4367-b83a-1517c54e2cdf",
   "metadata": {},
   "outputs": [],
   "source": [
    "a.mean()"
   ]
  },
  {
   "cell_type": "code",
   "execution_count": null,
   "id": "561b0708-8732-4e30-8400-0ef4fd81fd39",
   "metadata": {},
   "outputs": [],
   "source": [
    "a * 10"
   ]
  },
  {
   "cell_type": "code",
   "execution_count": null,
   "id": "7742d15e-fd30-4dde-a8c0-4111d6a62d2d",
   "metadata": {},
   "outputs": [],
   "source": [
    "b = np.array([12,23,43,23,56,2,3,4,324,65,76,43])\n",
    "b = b.reshape(4,3)"
   ]
  },
  {
   "cell_type": "code",
   "execution_count": null,
   "id": "6451ce1c-da6b-400c-835a-0462ed0ccce6",
   "metadata": {},
   "outputs": [],
   "source": [
    "a + b # we cant concatinate before make it into same dimension "
   ]
  },
  {
   "cell_type": "code",
   "execution_count": null,
   "id": "b3f1d671-57a7-4191-a7e9-6113adca044b",
   "metadata": {},
   "outputs": [],
   "source": [
    "b"
   ]
  },
  {
   "cell_type": "code",
   "execution_count": null,
   "id": "b7d1ee0f-7de7-4010-a81f-725ae592f6d3",
   "metadata": {},
   "outputs": [],
   "source": [
    "a"
   ]
  },
  {
   "cell_type": "code",
   "execution_count": null,
   "id": "87561f7d-6f91-4095-a837-879114918c40",
   "metadata": {},
   "outputs": [],
   "source": [
    "a * b"
   ]
  },
  {
   "cell_type": "code",
   "execution_count": null,
   "id": "3a090605-bd40-4058-b000-37e6219756d1",
   "metadata": {},
   "outputs": [],
   "source": [
    "b = b.reshape(3,4)\n",
    "result = a.dot(b)\n",
    "result"
   ]
  },
  {
   "cell_type": "code",
   "execution_count": null,
   "id": "f6fbe3c5-ba71-481c-9d13-4277ebaee7f5",
   "metadata": {},
   "outputs": [],
   "source": [
    "data = np.random.randn(100)\n",
    "data"
   ]
  },
  {
   "cell_type": "code",
   "execution_count": null,
   "id": "fca0ad57-485e-4f0c-8493-a1951c21c3bd",
   "metadata": {},
   "outputs": [],
   "source": [
    "import numpy as np\n",
    "\n",
    "# Generate a 5x2 array of random floats in [0.0, 1.0) , np.random.random(size)\n",
    "random_floats = np.random.random((5, 2))\n",
    "print(\"Random floats:\\n\", random_floats)\n",
    "\n",
    "# Generate a 5x2 array of random floats in [0.0, 1.0) using rand , np.random.rand(d0, d1, ..., dn)\n",
    "random_floats_rand = np.random.rand(5, 2, 3)\n",
    "print(\"\\nRandom floats using rand:\\n\", random_floats_rand)\n",
    "\n",
    "# Generate a 5x2 array of random floats from a normal distribution\n",
    "random_normals = np.random.randn(5, 2)\n",
    "print(\"\\nRandom normals:\\n\", random_normals)\n",
    "\n",
    "# Generate a 5x2 array of random integers from 0 to 9\n",
    "random_ints = np.random.randint(0, 10, (5, 2))\n",
    "print(\"\\nRandom integers:\\n\", random_ints)\n",
    "\n",
    "# Generate a 5x2 array of random samples from a given 1-D array\n",
    "random_choice = np.random.choice([1, 2, 3, 4, 5], size=(5, 2))\n",
    "print(\"\\nRandom choice:\\n\", random_choice)\n",
    "\n",
    "# Generate a 5x2 array of random floats in [1.0, 3.0)\n",
    "random_uniforms = np.random.uniform(1.0, 3.0, (5, 2))\n",
    "print(\"\\nRandom uniforms:\\n\", random_uniforms)\n",
    "\n",
    "# Generate a 5x2 array of random samples from a binomial distribution\n",
    "random_binomials = np.random.binomial(n=10, p=0.5, size=(5, 2))\n",
    "print(\"\\nRandom binomials:\\n\", random_binomials)\n",
    "\n",
    "# Generate a 5x2 array of random samples from a beta distribution\n",
    "random_betas = np.random.beta(a=2.0, b=5.0, size=(5, 2))\n",
    "print(\"\\nRandom betas:\\n\", random_betas)\n",
    "\n",
    "# Generate a 5x2 array of random samples from a Poisson distribution\n",
    "random_poissons = np.random.poisson(lam=3.0, size=(5, 2))\n",
    "print(\"\\nRandom poissons:\\n\", random_poissons)"
   ]
  },
  {
   "cell_type": "code",
   "execution_count": null,
   "id": "199d4925-80c7-4286-aac6-68d158ddc449",
   "metadata": {},
   "outputs": [],
   "source": [
    "normalized_data = (data - np.mean(data)) / np.std(data)\n",
    "print(\"Normalized data : \\n\",normalized_data)"
   ]
  },
  {
   "cell_type": "code",
   "execution_count": null,
   "id": "6678c950-8e6c-415f-850b-4ea6844a1ad1",
   "metadata": {},
   "outputs": [],
   "source": [
    "data = np.random.normal(size = 20 , loc = 50 , scale = 0.2) #loc = location parameter\n",
    "print(data) "
   ]
  },
  {
   "cell_type": "code",
   "execution_count": null,
   "id": "197ecda2-ef6d-4fd8-af8c-069c4abfe209",
   "metadata": {},
   "outputs": [],
   "source": [
    "array = np.arange(21)\n",
    "array"
   ]
  },
  {
   "cell_type": "code",
   "execution_count": null,
   "id": "bd66cf1e-84d5-4f69-ad19-63ca51f0a13a",
   "metadata": {},
   "outputs": [],
   "source": [
    "even_mask = array % 2 == 0\n",
    "even_numbers = array[even_mask]\n",
    "\n",
    "print(\"Even Numbers \",even_numbers)"
   ]
  },
  {
   "cell_type": "code",
   "execution_count": null,
   "id": "22a044f5-89c7-44cd-8e08-daa8409ed8a2",
   "metadata": {},
   "outputs": [],
   "source": [
    "arr = np.array([1.32473,23.34234,42.2342,3.23432])\n",
    "\n",
    "rounded_array = np.round(arr,decimals = 2)\n",
    "\n",
    "print(rounded_array)\n",
    "\n",
    "arr = np.array([2.9 , -2.9 , 2.9 , -2.1])\n",
    "\n",
    "fixed_arr = np.fix(arr)\n",
    "\n",
    "print(fixed_arr)"
   ]
  },
  {
   "cell_type": "code",
   "execution_count": null,
   "id": "9b5e85fa-2718-4738-800e-dd09560f6e22",
   "metadata": {},
   "outputs": [],
   "source": []
  }
 ],
 "metadata": {
  "kernelspec": {
   "display_name": "Python 3 (ipykernel)",
   "language": "python",
   "name": "python3"
  },
  "language_info": {
   "codemirror_mode": {
    "name": "ipython",
    "version": 3
   },
   "file_extension": ".py",
   "mimetype": "text/x-python",
   "name": "python",
   "nbconvert_exporter": "python",
   "pygments_lexer": "ipython3",
   "version": "3.12.4"
  }
 },
 "nbformat": 4,
 "nbformat_minor": 5
}
