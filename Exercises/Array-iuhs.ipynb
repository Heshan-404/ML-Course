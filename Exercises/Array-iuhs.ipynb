{
 "cells": [
  {
   "cell_type": "code",
   "execution_count": 1,
   "id": "47a01158-fad1-4925-bddf-04d218982cda",
   "metadata": {},
   "outputs": [],
   "source": [
    "import numpy as np"
   ]
  },
  {
   "cell_type": "code",
   "execution_count": 2,
   "id": "4528a4d1-1e03-49eb-a977-14017c934919",
   "metadata": {},
   "outputs": [
    {
     "data": {
      "text/plain": [
       "5.0"
      ]
     },
     "execution_count": 2,
     "metadata": {},
     "output_type": "execute_result"
    }
   ],
   "source": [
    "np.sqrt(25)"
   ]
  },
  {
   "cell_type": "code",
   "execution_count": 3,
   "id": "683b1f89-7313-4286-a318-eaf025eac868",
   "metadata": {},
   "outputs": [
    {
     "data": {
      "text/plain": [
       "9"
      ]
     },
     "execution_count": 3,
     "metadata": {},
     "output_type": "execute_result"
    }
   ],
   "source": [
    "np.power(3,2)"
   ]
  },
  {
   "cell_type": "code",
   "execution_count": 4,
   "id": "7e3ed40d-4b9b-450e-8e1c-4192b8b9d770",
   "metadata": {},
   "outputs": [
    {
     "data": {
      "text/plain": [
       "-0.9880316240928618"
      ]
     },
     "execution_count": 4,
     "metadata": {},
     "output_type": "execute_result"
    }
   ],
   "source": [
    "np.sin(30)"
   ]
  },
  {
   "cell_type": "code",
   "execution_count": 5,
   "id": "02875697-0015-4262-811f-a749a7dd41c5",
   "metadata": {},
   "outputs": [
    {
     "data": {
      "text/plain": [
       "4.605170185988092"
      ]
     },
     "execution_count": 5,
     "metadata": {},
     "output_type": "execute_result"
    }
   ],
   "source": [
    "np.log(100)"
   ]
  },
  {
   "cell_type": "code",
   "execution_count": 6,
   "id": "fceac818-5c08-4347-9cf2-49d0dcc4e2dd",
   "metadata": {},
   "outputs": [
    {
     "data": {
      "text/plain": [
       "1.0"
      ]
     },
     "execution_count": 6,
     "metadata": {},
     "output_type": "execute_result"
    }
   ],
   "source": [
    "np.exp(0)"
   ]
  },
  {
   "cell_type": "code",
   "execution_count": 7,
   "id": "541367b7-2d7a-4fae-ba38-ee51d0c2438e",
   "metadata": {},
   "outputs": [
    {
     "data": {
      "text/plain": [
       "array(['10', '20', '30', '40', 'ABC'], dtype='<U11')"
      ]
     },
     "execution_count": 7,
     "metadata": {},
     "output_type": "execute_result"
    }
   ],
   "source": [
    "L = [10,20,30,40,\"ABC\"]\n",
    "a = np.array(L)\n",
    "a"
   ]
  },
  {
   "cell_type": "code",
   "execution_count": 8,
   "id": "1ef65355-4949-4e44-8e9c-4fbf11f99de4",
   "metadata": {},
   "outputs": [
    {
     "data": {
      "text/plain": [
       "array([[10, 20, 30],\n",
       "       [40, 50, 60],\n",
       "       [70, 80, 90]])"
      ]
     },
     "execution_count": 8,
     "metadata": {},
     "output_type": "execute_result"
    }
   ],
   "source": [
    "b = np.array([[10,20,30],[40,50,60],[70,80,90]])\n",
    "b"
   ]
  },
  {
   "cell_type": "code",
   "execution_count": 9,
   "id": "516a3f69-01d8-426b-b8b9-9199816ca314",
   "metadata": {},
   "outputs": [
    {
     "data": {
      "text/plain": [
       "(3, 3)"
      ]
     },
     "execution_count": 9,
     "metadata": {},
     "output_type": "execute_result"
    }
   ],
   "source": [
    "b.shape"
   ]
  },
  {
   "cell_type": "code",
   "execution_count": 10,
   "id": "ccffaf48-6273-4855-9b09-4f4d584adc1b",
   "metadata": {},
   "outputs": [
    {
     "data": {
      "text/plain": [
       "1"
      ]
     },
     "execution_count": 10,
     "metadata": {},
     "output_type": "execute_result"
    }
   ],
   "source": [
    "a.ndim #number of dimensions\n"
   ]
  },
  {
   "cell_type": "code",
   "execution_count": 11,
   "id": "646d29c2-fba5-45fb-9d41-ecf0ce19267c",
   "metadata": {},
   "outputs": [
    {
     "data": {
      "text/plain": [
       "2"
      ]
     },
     "execution_count": 11,
     "metadata": {},
     "output_type": "execute_result"
    }
   ],
   "source": [
    "b.ndim"
   ]
  },
  {
   "cell_type": "code",
   "execution_count": 12,
   "id": "19d63bfe-a40f-42f4-8ee8-762b1211fd30",
   "metadata": {},
   "outputs": [
    {
     "name": "stdout",
     "output_type": "stream",
     "text": [
      "20\n"
     ]
    }
   ],
   "source": [
    "print(b[0,1])"
   ]
  },
  {
   "cell_type": "code",
   "execution_count": 13,
   "id": "e396d2b7-4b24-44cd-a663-71c2427d9980",
   "metadata": {},
   "outputs": [
    {
     "name": "stdout",
     "output_type": "stream",
     "text": [
      "20\n"
     ]
    }
   ],
   "source": [
    "print(b[0,1])"
   ]
  },
  {
   "cell_type": "code",
   "execution_count": 14,
   "id": "a0e77a32-513c-41df-ab16-50c93f1a1e4c",
   "metadata": {},
   "outputs": [
    {
     "name": "stdout",
     "output_type": "stream",
     "text": [
      "[[10 20 30]\n",
      " [40 50 60]\n",
      " [70 80 90]]\n"
     ]
    }
   ],
   "source": [
    "print(b[:3]) # print rows in 2d array"
   ]
  },
  {
   "cell_type": "code",
   "execution_count": 15,
   "id": "46255660-4c8f-4608-85a4-5d2313303c12",
   "metadata": {},
   "outputs": [
    {
     "name": "stdout",
     "output_type": "stream",
     "text": [
      "[[10 20 30]\n",
      " [70 80 90]]\n"
     ]
    }
   ],
   "source": [
    "print(b[::2])"
   ]
  },
  {
   "cell_type": "code",
   "execution_count": 16,
   "id": "1c5475b7-e0db-4203-bcba-3e8bd99561ad",
   "metadata": {},
   "outputs": [
    {
     "data": {
      "text/plain": [
       "dtype('int32')"
      ]
     },
     "execution_count": 16,
     "metadata": {},
     "output_type": "execute_result"
    }
   ],
   "source": [
    "b.dtype"
   ]
  },
  {
   "cell_type": "code",
   "execution_count": 17,
   "id": "d7997785-a37c-4e73-82ed-f396c1811b32",
   "metadata": {},
   "outputs": [
    {
     "name": "stdout",
     "output_type": "stream",
     "text": [
      "[100   2]\n"
     ]
    }
   ],
   "source": [
    "original_array = np.array([1,2,3])\n",
    "view_array = original_array[:2] # get only certain values \n",
    "#this taking only the reference address\n",
    "\n",
    "original_array[0] = 100\n",
    "print(view_array)"
   ]
  },
  {
   "cell_type": "code",
   "execution_count": 18,
   "id": "1f96a17c-892f-416b-9d61-91eee3909817",
   "metadata": {},
   "outputs": [
    {
     "name": "stdout",
     "output_type": "stream",
     "text": [
      "[100  20  30]\n",
      "[10 20]\n"
     ]
    }
   ],
   "source": [
    "original_array = np.array([10,20,30])\n",
    "copy_array = original_array[:2].copy()\n",
    "\n",
    "original_array[0] = 100;\n",
    "\n",
    "print(original_array)\n",
    "print(copy_array)"
   ]
  },
  {
   "cell_type": "code",
   "execution_count": 19,
   "id": "596e3040-a505-4533-8301-b09226e063d2",
   "metadata": {},
   "outputs": [
    {
     "name": "stdout",
     "output_type": "stream",
     "text": [
      "[10 20 30 40 50 60]\n",
      "[10 20 30 40 50 60]\n"
     ]
    }
   ],
   "source": [
    "array1 = np.array([10,20,30])\n",
    "array2 = np.array([40,50,60])\n",
    "\n",
    "result = np.concatenate((array1,array2)) #combine both arrays\n",
    "\n",
    "print(result)\n",
    "\n",
    "result2 = np.append(array1 , array2)\n",
    "print(result2)\n"
   ]
  },
  {
   "cell_type": "code",
   "execution_count": 20,
   "id": "661542f0-e482-474a-b759-a5eb0b9de778",
   "metadata": {},
   "outputs": [
    {
     "name": "stdout",
     "output_type": "stream",
     "text": [
      "[50 70 90]\n",
      "[-30 -30 -30]\n"
     ]
    }
   ],
   "source": [
    "result3 = np.add(array1,array2) #add both arrays and get new array\n",
    "print(result3)\n",
    "\n",
    "result4 = np.subtract(array1,array2) #substract both arrays and get new array\n",
    "print(result4)"
   ]
  },
  {
   "cell_type": "code",
   "execution_count": 21,
   "id": "2106d3ea-f163-4c47-802a-64079018c123",
   "metadata": {},
   "outputs": [
    {
     "name": "stdout",
     "output_type": "stream",
     "text": [
      "Split Array into 3 parts :  [array([1, 2, 3]), array([4, 5, 6]), array([7, 8, 9])]\n",
      "Part 1 : [1 2 3]\n",
      "Part 2 : [4 5 6]\n",
      "Part 3 : [7 8 9]\n"
     ]
    }
   ],
   "source": [
    "#create a 1D array\n",
    "array = np.array([1,2,3,4,5,6,7,8,9])\n",
    "\n",
    "#split the array into 3 parts\n",
    "split_array = np.array_split(array,3)\n",
    "print(\"Split Array into 3 parts : \" , split_array)\n",
    "\n",
    "\n",
    "for i, part in enumerate(split_array):\n",
    "    print(f\"Part {i+1} : {part}\")"
   ]
  },
  {
   "cell_type": "code",
   "execution_count": 22,
   "id": "deb00474-edca-4bcf-9695-b83ea3fa660e",
   "metadata": {},
   "outputs": [
    {
     "name": "stdout",
     "output_type": "stream",
     "text": [
      "Part 1 : [10 20]\n",
      "Part 2 : [30 40 50]\n",
      "Part 3 : [60]\n",
      "Part 4 : [70 80 90]\n"
     ]
    }
   ],
   "source": [
    "array = np.array([10,20,30,40,50,60,70,80,90])\n",
    "\n",
    "#split the array at specified indices\n",
    "split_array = np.array_split(array , [2,5,6]) \n",
    "# 0-1 --> 1-4 --> 5-6\n",
    "# [0,1] --> [2,3,4] --> [5] --> [6,7,8]\n",
    "for i, part in enumerate(split_array):\n",
    "    print(f\"Part {i+1} : {part}\")"
   ]
  },
  {
   "cell_type": "code",
   "execution_count": 23,
   "id": "ad4a6827-aae1-46de-9660-b498884a8dcb",
   "metadata": {},
   "outputs": [
    {
     "name": "stdout",
     "output_type": "stream",
     "text": [
      "\n",
      "Split 2D array into 2 parts along the rows : \n",
      "Part 1 :\n",
      " [[1 2 3 4]\n",
      " [5 6 7 8]]\n",
      "Part 2 :\n",
      " [[ 9 10 11 12]]\n"
     ]
    }
   ],
   "source": [
    "array_2d = np.array([[1,2,3,4],[5,6,7,8],[9,10,11,12]])\n",
    "\n",
    "#split the 2d array into 2 parts along the rows (axis = 0)\n",
    "\n",
    "split_2d_array = np.array_split(array_2d , 2 , axis = 0) \n",
    "# we can remove axis but it takes default axis = 0\n",
    "# split_2d_array = np.array_split(array_2d , 2)\n",
    "print(\"\\nSplit 2D array into 2 parts along the rows : \")\n",
    "for i, part in enumerate(split_2d_array):\n",
    "    print(f\"Part {i+1} :\\n {part}\")"
   ]
  },
  {
   "cell_type": "code",
   "execution_count": 24,
   "id": "2e7f6caf-7b79-49f9-8a8f-8782fb3619d1",
   "metadata": {},
   "outputs": [
    {
     "name": "stdout",
     "output_type": "stream",
     "text": [
      "\n",
      "Split 2D array into 2 parts along the rows : \n",
      "Part 1 :\n",
      " [[ 1  2]\n",
      " [ 5  6]\n",
      " [ 9 10]]\n",
      "Part 2 :\n",
      " [[ 3  4]\n",
      " [ 7  8]\n",
      " [11 12]]\n"
     ]
    }
   ],
   "source": [
    "array_2d = np.array([[1,2,3,4],[5,6,7,8],[9,10,11,12]])\n",
    "\n",
    "#split the 2d array into 2 parts along the colomns (axis = 0)\n",
    "\n",
    "split_2d_array = np.array_split(array_2d , 2 , axis = 1)\n",
    "print(\"\\nSplit 2D array into 2 parts along the rows : \")\n",
    "for i, part in enumerate(split_2d_array):\n",
    "    print(f\"Part {i+1} :\\n {part}\")"
   ]
  },
  {
   "cell_type": "code",
   "execution_count": 25,
   "id": "0dd82a7a-02e2-4fa3-9825-f792a1c289ff",
   "metadata": {},
   "outputs": [
    {
     "name": "stdout",
     "output_type": "stream",
     "text": [
      "(array([2, 5, 7, 9], dtype=int64),)\n",
      "[2 5 7 9]\n",
      "4\n"
     ]
    }
   ],
   "source": [
    "array = np.array([1,2,3,4,5,3,7,3,9,3]);\n",
    "result = np.where(array == 3)\n",
    "print(result)\n",
    "print(result[0])\n",
    "print(len(result[0]))"
   ]
  },
  {
   "cell_type": "code",
   "execution_count": 26,
   "id": "5657c7cd-e6d7-4da8-be41-3d2dfb99d725",
   "metadata": {},
   "outputs": [
    {
     "name": "stdout",
     "output_type": "stream",
     "text": [
      "[1 2 2 3 4 6 7]\n",
      "[1 2 3 7 6 4 2]\n",
      "[1 2 2 3 4 6 7]\n"
     ]
    }
   ],
   "source": [
    "array = np.array([1,2,3,7,6,4,2])\n",
    "sorted_array = np.sort(array)\n",
    "print(sorted_array)\n",
    "print(array)\n",
    "array.sort()\n",
    "print(array)"
   ]
  },
  {
   "cell_type": "code",
   "execution_count": 27,
   "id": "fc4db172-964f-4288-bf95-46a07e82f5fd",
   "metadata": {},
   "outputs": [
    {
     "name": "stdout",
     "output_type": "stream",
     "text": [
      "(12,)\n"
     ]
    }
   ],
   "source": [
    "a = np.array([1,2,3,4,5,43,3,32,23,2,3,4])\n",
    "print(a.shape)"
   ]
  },
  {
   "cell_type": "code",
   "execution_count": 92,
   "id": "3e01a1e5-6a99-4807-9a67-c86b089cb4a0",
   "metadata": {},
   "outputs": [
    {
     "data": {
      "text/plain": [
       "array([[ 1,  2,  3],\n",
       "       [ 4,  5, 43],\n",
       "       [ 3, 32, 23],\n",
       "       [ 2,  3,  4]])"
      ]
     },
     "execution_count": 92,
     "metadata": {},
     "output_type": "execute_result"
    }
   ],
   "source": [
    "a.reshape(4,3) # we can reshape array \n",
    "a"
   ]
  },
  {
   "cell_type": "code",
   "execution_count": 94,
   "id": "c457f710-6e9c-42ee-b40a-99058ea436f3",
   "metadata": {},
   "outputs": [
    {
     "data": {
      "text/plain": [
       "4"
      ]
     },
     "execution_count": 94,
     "metadata": {},
     "output_type": "execute_result"
    }
   ],
   "source": [
    "a[3,2]"
   ]
  },
  {
   "cell_type": "code",
   "execution_count": 96,
   "id": "d4a48d0b-0579-4023-880f-3342e75cbcfe",
   "metadata": {},
   "outputs": [
    {
     "data": {
      "text/plain": [
       "array([[ 5, 43],\n",
       "       [32, 23]])"
      ]
     },
     "execution_count": 96,
     "metadata": {},
     "output_type": "execute_result"
    }
   ],
   "source": [
    "a[1:3,1:]   # takes rows 1 , 2 and take colms 1 ,2 "
   ]
  },
  {
   "cell_type": "code",
   "execution_count": 98,
   "id": "9c16af73-892c-4412-ac04-d0f9bbd011e1",
   "metadata": {},
   "outputs": [
    {
     "data": {
      "text/plain": [
       "125"
      ]
     },
     "execution_count": 98,
     "metadata": {},
     "output_type": "execute_result"
    }
   ],
   "source": [
    "a.sum() # get summation of all numbers in array"
   ]
  },
  {
   "cell_type": "code",
   "execution_count": 100,
   "id": "fd77e5b6-759c-46af-8e76-f387efa3b43c",
   "metadata": {},
   "outputs": [
    {
     "data": {
      "text/plain": [
       "1"
      ]
     },
     "execution_count": 100,
     "metadata": {},
     "output_type": "execute_result"
    }
   ],
   "source": [
    "a.min() # get minimum value"
   ]
  },
  {
   "cell_type": "code",
   "execution_count": 80,
   "id": "69868901-48bb-4592-a786-77be2f498596",
   "metadata": {},
   "outputs": [
    {
     "data": {
      "text/plain": [
       "43"
      ]
     },
     "execution_count": 80,
     "metadata": {},
     "output_type": "execute_result"
    }
   ],
   "source": [
    "a.max()"
   ]
  },
  {
   "cell_type": "code",
   "execution_count": 82,
   "id": "11fbf25c-82c8-4367-b83a-1517c54e2cdf",
   "metadata": {},
   "outputs": [
    {
     "data": {
      "text/plain": [
       "10.416666666666666"
      ]
     },
     "execution_count": 82,
     "metadata": {},
     "output_type": "execute_result"
    }
   ],
   "source": [
    "a.mean()"
   ]
  },
  {
   "cell_type": "code",
   "execution_count": 84,
   "id": "561b0708-8732-4e30-8400-0ef4fd81fd39",
   "metadata": {},
   "outputs": [
    {
     "data": {
      "text/plain": [
       "array([[ 10,  20,  30],\n",
       "       [ 40,  50, 430],\n",
       "       [ 30, 320, 230],\n",
       "       [ 20,  30,  40]])"
      ]
     },
     "execution_count": 84,
     "metadata": {},
     "output_type": "execute_result"
    }
   ],
   "source": [
    "a * 10"
   ]
  },
  {
   "cell_type": "code",
   "execution_count": 88,
   "id": "7742d15e-fd30-4dde-a8c0-4111d6a62d2d",
   "metadata": {},
   "outputs": [],
   "source": [
    "b = np.array([12,23,43,23,56,2,3,4,324,65,76,43])\n",
    "b = b.reshape(4,3)"
   ]
  },
  {
   "cell_type": "code",
   "execution_count": 102,
   "id": "6451ce1c-da6b-400c-835a-0462ed0ccce6",
   "metadata": {},
   "outputs": [
    {
     "data": {
      "text/plain": [
       "array([[ 13,  25,  46],\n",
       "       [ 27,  61,  45],\n",
       "       [  6,  36, 347],\n",
       "       [ 67,  79,  47]])"
      ]
     },
     "execution_count": 102,
     "metadata": {},
     "output_type": "execute_result"
    }
   ],
   "source": [
    "a + b # we cant concatinate before make it into same dimension "
   ]
  },
  {
   "cell_type": "code",
   "execution_count": 113,
   "id": "b3f1d671-57a7-4191-a7e9-6113adca044b",
   "metadata": {},
   "outputs": [
    {
     "data": {
      "text/plain": [
       "array([[ 12,  23,  43],\n",
       "       [ 23,  56,   2],\n",
       "       [  3,   4, 324],\n",
       "       [ 65,  76,  43]])"
      ]
     },
     "execution_count": 113,
     "metadata": {},
     "output_type": "execute_result"
    }
   ],
   "source": [
    "b"
   ]
  },
  {
   "cell_type": "code",
   "execution_count": 115,
   "id": "b7d1ee0f-7de7-4010-a81f-725ae592f6d3",
   "metadata": {},
   "outputs": [
    {
     "data": {
      "text/plain": [
       "array([[ 1,  2,  3],\n",
       "       [ 4,  5, 43],\n",
       "       [ 3, 32, 23],\n",
       "       [ 2,  3,  4]])"
      ]
     },
     "execution_count": 115,
     "metadata": {},
     "output_type": "execute_result"
    }
   ],
   "source": [
    "a"
   ]
  },
  {
   "cell_type": "code",
   "execution_count": 117,
   "id": "87561f7d-6f91-4095-a837-879114918c40",
   "metadata": {},
   "outputs": [
    {
     "data": {
      "text/plain": [
       "array([[  12,   46,  129],\n",
       "       [  92,  280,   86],\n",
       "       [   9,  128, 7452],\n",
       "       [ 130,  228,  172]])"
      ]
     },
     "execution_count": 117,
     "metadata": {},
     "output_type": "execute_result"
    }
   ],
   "source": [
    "a * b"
   ]
  },
  {
   "cell_type": "code",
   "execution_count": 121,
   "id": "3a090605-bd40-4058-b000-37e6219756d1",
   "metadata": {},
   "outputs": [
    {
     "data": {
      "text/plain": [
       "array([[ 1096,   222,   277,   160],\n",
       "       [14260,  2897,  3455,  1961],\n",
       "       [ 9280,  1628,  1973,  1186],\n",
       "       [ 1488,   312,   399,   230]])"
      ]
     },
     "execution_count": 121,
     "metadata": {},
     "output_type": "execute_result"
    }
   ],
   "source": [
    "b = b.reshape(3,4)\n",
    "result = a.dot(b)\n",
    "result"
   ]
  },
  {
   "cell_type": "code",
   "execution_count": 131,
   "id": "f6fbe3c5-ba71-481c-9d13-4277ebaee7f5",
   "metadata": {},
   "outputs": [
    {
     "data": {
      "text/plain": [
       "array([ 1.46907865,  1.46979043, -1.16508465,  1.02707518,  0.23359037,\n",
       "       -0.68607119, -1.87421294,  0.36423236, -0.85498321, -0.67600419,\n",
       "        0.66816871, -0.98210102,  0.04076212, -0.59465655,  0.81723842,\n",
       "        0.37188208,  0.07499651,  1.75234223,  1.39897163, -0.36298031,\n",
       "        0.02327155,  0.94939977,  1.62127682, -0.98305489,  0.23144838,\n",
       "       -0.56415117,  0.7857072 , -0.72754774, -0.44185482,  0.67239088,\n",
       "       -0.61925424,  1.6064661 ,  0.77162781,  0.88938931, -1.03413836,\n",
       "        1.3387397 , -0.49230103,  0.7510678 , -0.36919914, -0.83811033,\n",
       "        1.00485985,  2.24787962,  1.01714768, -0.91341541,  0.18182285,\n",
       "        0.03731996, -0.29347963, -0.98322995, -0.09631636,  0.58574845,\n",
       "       -0.63409431,  0.2928295 , -1.92010371, -2.25415786, -0.23523204,\n",
       "       -0.42928108, -0.04502848,  0.43593512,  0.19328509,  0.14509232,\n",
       "       -0.61212977, -0.57355815,  0.8187677 , -0.36133483,  1.39740315,\n",
       "       -0.94010992, -1.41100528,  0.49171113,  1.11480403,  0.49559549,\n",
       "        0.63193247, -0.57163843,  0.95191849, -0.15174402,  0.36298413,\n",
       "       -1.02275273, -1.38088536, -0.36954168,  0.4671788 ,  1.8095487 ,\n",
       "        0.4894674 ,  1.28010453, -0.36011297,  0.86798907,  0.41789548,\n",
       "        1.42149984,  0.62560067, -0.49560071,  0.27938568, -0.42649695,\n",
       "        0.09507243, -1.27124265,  0.05771756, -0.53613003,  0.7501632 ,\n",
       "        0.14138522,  1.66521029, -2.7930937 ,  0.45705783,  0.54887487])"
      ]
     },
     "execution_count": 131,
     "metadata": {},
     "output_type": "execute_result"
    }
   ],
   "source": [
    "data = np.random.randn(100)\n",
    "data"
   ]
  },
  {
   "cell_type": "code",
   "execution_count": 137,
   "id": "fca0ad57-485e-4f0c-8493-a1951c21c3bd",
   "metadata": {},
   "outputs": [
    {
     "name": "stdout",
     "output_type": "stream",
     "text": [
      "Random floats:\n",
      " [[0.71246609 0.80566456]\n",
      " [0.38082273 0.34238953]\n",
      " [0.24984541 0.58954358]\n",
      " [0.00496489 0.74368192]\n",
      " [0.97718265 0.65398754]]\n",
      "\n",
      "Random floats using rand:\n",
      " [[[0.83572326 0.22974362 0.74661799]\n",
      "  [0.93108705 0.06056307 0.12830253]]\n",
      "\n",
      " [[0.04784606 0.73866871 0.51479765]\n",
      "  [0.70044483 0.43128395 0.46939596]]\n",
      "\n",
      " [[0.44999137 0.63097927 0.87503673]\n",
      "  [0.29986047 0.56852696 0.01896843]]\n",
      "\n",
      " [[0.16971007 0.03105836 0.39528227]\n",
      "  [0.79169168 0.23012337 0.82164537]]\n",
      "\n",
      " [[0.03010594 0.2839017  0.76328972]\n",
      "  [0.54353038 0.92558138 0.44756611]]]\n",
      "\n",
      "Random normals:\n",
      " [[ 0.42853312 -1.41299521]\n",
      " [-1.42122652  0.32175166]\n",
      " [ 0.72138187 -0.75010339]\n",
      " [-1.02121887 -1.34944911]\n",
      " [ 1.68000152 -0.88270053]]\n",
      "\n",
      "Random integers:\n",
      " [[0 7]\n",
      " [6 7]\n",
      " [1 8]\n",
      " [1 6]\n",
      " [9 1]]\n",
      "\n",
      "Random choice:\n",
      " [[2 2]\n",
      " [3 2]\n",
      " [2 1]\n",
      " [2 3]\n",
      " [1 1]]\n",
      "\n",
      "Random uniforms:\n",
      " [[1.76431636 2.06069527]\n",
      " [1.80744727 2.37975585]\n",
      " [2.14379988 1.3333361 ]\n",
      " [2.40019744 1.74879711]\n",
      " [1.04511606 2.13936076]]\n",
      "\n",
      "Random binomials:\n",
      " [[6 6]\n",
      " [4 8]\n",
      " [3 9]\n",
      " [6 4]\n",
      " [3 5]]\n",
      "\n",
      "Random betas:\n",
      " [[0.2710773  0.57524667]\n",
      " [0.19938714 0.59927578]\n",
      " [0.12141927 0.01071567]\n",
      " [0.40000292 0.44564098]\n",
      " [0.40110496 0.1649639 ]]\n",
      "\n",
      "Random poissons:\n",
      " [[3 4]\n",
      " [4 4]\n",
      " [3 3]\n",
      " [6 2]\n",
      " [2 2]]\n"
     ]
    }
   ],
   "source": [
    "import numpy as np\n",
    "\n",
    "# Generate a 5x2 array of random floats in [0.0, 1.0) , np.random.random(size)\n",
    "random_floats = np.random.random((5, 2))\n",
    "print(\"Random floats:\\n\", random_floats)\n",
    "\n",
    "# Generate a 5x2 array of random floats in [0.0, 1.0) using rand , np.random.rand(d0, d1, ..., dn)\n",
    "random_floats_rand = np.random.rand(5, 2, 3)\n",
    "print(\"\\nRandom floats using rand:\\n\", random_floats_rand)\n",
    "\n",
    "# Generate a 5x2 array of random floats from a normal distribution\n",
    "random_normals = np.random.randn(5, 2)\n",
    "print(\"\\nRandom normals:\\n\", random_normals)\n",
    "\n",
    "# Generate a 5x2 array of random integers from 0 to 9\n",
    "random_ints = np.random.randint(0, 10, (5, 2))\n",
    "print(\"\\nRandom integers:\\n\", random_ints)\n",
    "\n",
    "# Generate a 5x2 array of random samples from a given 1-D array\n",
    "random_choice = np.random.choice([1, 2, 3, 4, 5], size=(5, 2))\n",
    "print(\"\\nRandom choice:\\n\", random_choice)\n",
    "\n",
    "# Generate a 5x2 array of random floats in [1.0, 3.0)\n",
    "random_uniforms = np.random.uniform(1.0, 3.0, (5, 2))\n",
    "print(\"\\nRandom uniforms:\\n\", random_uniforms)\n",
    "\n",
    "# Generate a 5x2 array of random samples from a binomial distribution\n",
    "random_binomials = np.random.binomial(n=10, p=0.5, size=(5, 2))\n",
    "print(\"\\nRandom binomials:\\n\", random_binomials)\n",
    "\n",
    "# Generate a 5x2 array of random samples from a beta distribution\n",
    "random_betas = np.random.beta(a=2.0, b=5.0, size=(5, 2))\n",
    "print(\"\\nRandom betas:\\n\", random_betas)\n",
    "\n",
    "# Generate a 5x2 array of random samples from a Poisson distribution\n",
    "random_poissons = np.random.poisson(lam=3.0, size=(5, 2))\n",
    "print(\"\\nRandom poissons:\\n\", random_poissons)"
   ]
  },
  {
   "cell_type": "code",
   "execution_count": 139,
   "id": "199d4925-80c7-4286-aac6-68d158ddc449",
   "metadata": {},
   "outputs": [
    {
     "name": "stdout",
     "output_type": "stream",
     "text": [
      "Normalized data : \n",
      " [ 1.45971245  1.46046456 -1.3236788   0.99266905  0.15423254 -0.81752875\n",
      " -2.07297991  0.29227553 -0.9960098  -0.80689145  0.61343017 -1.13032897\n",
      " -0.04951962 -0.72093538  0.77094483  0.30035861 -0.01334582  1.75902319\n",
      "  1.3856338  -0.47613446 -0.06800104  0.91059325  1.6205328  -1.13133687\n",
      "  0.15196921 -0.68870185  0.73762733 -0.86135499 -0.55947728  0.61789153\n",
      " -0.74692655  1.60488304  0.72275033  0.84718314 -1.18531427  1.32198968\n",
      " -0.61278132  0.70102558 -0.48270559 -0.97818106  0.9691952   2.28263326\n",
      "  0.98217915 -1.05775224  0.09953234 -0.05315678 -0.40269649 -1.13152185\n",
      " -0.19436373  0.52634072 -0.76260733  0.21682762 -2.12147043 -2.47444908\n",
      " -0.34114913 -0.54619123 -0.14017034  0.36804032  0.11164392  0.06072099\n",
      " -0.73939848 -0.69864174  0.77256074 -0.47439576  1.38397646 -1.08595902\n",
      " -1.58353108  0.4269761   1.08536782  0.43108051  0.57514111 -0.69661326\n",
      "  0.91325466 -0.25293142  0.29095659 -1.17328363 -1.55170483 -0.48306753\n",
      "  0.40105398  1.81947047  0.42460525  1.26003276 -0.47310468  0.82457055\n",
      "  0.34897872  1.40943825  0.56845062 -0.61626793  0.2026222  -0.54324937\n",
      "  0.00786743 -1.43585075 -0.03160363 -0.65909328  0.70006973  0.05680387\n",
      "  1.66695514 -3.04391616  0.39035965  0.48737822]\n"
     ]
    }
   ],
   "source": [
    "normalized_data = (data - np.mean(data)) / np.std(data)\n",
    "print(\"Normalized data : \\n\",normalized_data)"
   ]
  },
  {
   "cell_type": "code",
   "execution_count": 145,
   "id": "6678c950-8e6c-415f-850b-4ea6844a1ad1",
   "metadata": {},
   "outputs": [
    {
     "name": "stdout",
     "output_type": "stream",
     "text": [
      "[49.98308535 49.67023909 49.83479472 50.31041301 49.79744727 50.21381611\n",
      " 50.24721505 50.15440713 49.81002109 49.98256786 50.02016329 49.64473137\n",
      " 49.82765611 50.17193967 50.1409853  50.04949306 49.76484534 49.69942568\n",
      " 50.36447016 49.56352398]\n"
     ]
    }
   ],
   "source": [
    "data = np.random.normal(size = 20 , loc = 50 , scale = 0.2) #loc = location parameter\n",
    "print(data) "
   ]
  },
  {
   "cell_type": "code",
   "execution_count": 153,
   "id": "197ecda2-ef6d-4fd8-af8c-069c4abfe209",
   "metadata": {},
   "outputs": [
    {
     "data": {
      "text/plain": [
       "array([ 0,  1,  2,  3,  4,  5,  6,  7,  8,  9, 10, 11, 12, 13, 14, 15, 16,\n",
       "       17, 18, 19, 20])"
      ]
     },
     "execution_count": 153,
     "metadata": {},
     "output_type": "execute_result"
    }
   ],
   "source": [
    "array = np.arange(21)\n",
    "array"
   ]
  },
  {
   "cell_type": "code",
   "execution_count": 159,
   "id": "bd66cf1e-84d5-4f69-ad19-63ca51f0a13a",
   "metadata": {},
   "outputs": [
    {
     "name": "stdout",
     "output_type": "stream",
     "text": [
      "Even Numbers  [ 0  2  4  6  8 10 12 14 16 18 20]\n"
     ]
    }
   ],
   "source": [
    "even_mask = array % 2 == 0\n",
    "even_numbers = array[even_mask]\n",
    "\n",
    "print(\"Even Numbers \",even_numbers)"
   ]
  },
  {
   "cell_type": "code",
   "execution_count": 171,
   "id": "22a044f5-89c7-44cd-8e08-daa8409ed8a2",
   "metadata": {},
   "outputs": [
    {
     "name": "stdout",
     "output_type": "stream",
     "text": [
      "[ 1.32 23.34 42.23  3.23]\n",
      "[ 2. -2.  2. -2.]\n"
     ]
    }
   ],
   "source": [
    "arr = np.array([1.32473,23.34234,42.2342,3.23432])\n",
    "\n",
    "rounded_array = np.round(arr,decimals = 2)\n",
    "\n",
    "print(rounded_array)\n",
    "\n",
    "arr = np.array([2.9 , -2.9 , 2.9 , -2.1])\n",
    "\n",
    "fixed_arr = np.fix(arr)\n",
    "\n",
    "print(fixed_arr)"
   ]
  },
  {
   "cell_type": "code",
   "execution_count": null,
   "id": "9b5e85fa-2718-4738-800e-dd09560f6e22",
   "metadata": {},
   "outputs": [],
   "source": []
  }
 ],
 "metadata": {
  "kernelspec": {
   "display_name": "Python 3 (ipykernel)",
   "language": "python",
   "name": "python3"
  },
  "language_info": {
   "codemirror_mode": {
    "name": "ipython",
    "version": 3
   },
   "file_extension": ".py",
   "mimetype": "text/x-python",
   "name": "python",
   "nbconvert_exporter": "python",
   "pygments_lexer": "ipython3",
   "version": "3.12.4"
  }
 },
 "nbformat": 4,
 "nbformat_minor": 5
}
